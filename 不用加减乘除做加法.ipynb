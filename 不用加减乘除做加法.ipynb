{
 "cells": [
  {
   "cell_type": "markdown",
   "metadata": {},
   "source": [
    "## 题目：\n",
    "\n",
    "## 写一个函数，要求两个整数之和，要求在函数体内不得使用\"+-*/\"四则运算符号"
   ]
  },
  {
   "cell_type": "markdown",
   "metadata": {},
   "source": [
    "思路一：用sum函数，但是特别注意sum()求和里面是个[]列表对象，直接输入num，num2是不行的"
   ]
  },
  {
   "cell_type": "code",
   "execution_count": 2,
   "metadata": {},
   "outputs": [
    {
     "data": {
      "text/plain": [
       "30"
      ]
     },
     "execution_count": 2,
     "metadata": {},
     "output_type": "execute_result"
    }
   ],
   "source": [
    "# -*- coding:utf-8 -*-\n",
    "def Intersum(num,num2):\n",
    "    return sum([num,num2])\n",
    "Intersum(10,20)"
   ]
  },
  {
   "cell_type": "code",
   "execution_count": 5,
   "metadata": {},
   "outputs": [
    {
     "data": {
      "text/plain": [
       "30"
      ]
     },
     "execution_count": 5,
     "metadata": {},
     "output_type": "execute_result"
    }
   ],
   "source": [
    "class IntegerSum(object):\n",
    "    def get_data(self,num,num2):\n",
    "        return sum([num,num2])\n",
    "Sum = IntegerSum()\n",
    "Sum.get_data(10,20)"
   ]
  },
  {
   "cell_type": "markdown",
   "metadata": {},
   "source": [
    "思路二：\n",
    "        首先看十进制是如何做的： 5+7=12，三步走\n",
    "        第一步：相加各位的值，不算进位，得到2。\n",
    "        第二步：计算进位值，得到10. 如果这一步的进位值为0，那么第一步得到的值就是最终结果。\n",
    "        第三步：重复上述两步，只是相加的值变成上述两步的得到的结果2和10，得到12。\n",
    "        同样我们可以用三步走的方式计算二进制值相加： 5-101，7-111 第一步：相加各位的值，不算进位，得到010，\n",
    "        二进制每位相加就相当于各位做异或操作，101^111。\n",
    "        第二步：计算进位值，得到1010，相当于各位做与操作得到101，再向左移一位得到1010，(101&111)<<1。\n",
    "        第三步重复上述两步， 各位相加 010^1010=1000，进位值为100=(010&1010)<<1。\n",
    "             继续重复上述两步：1000^100 = 1100，进位值为0，跳出循环，1100为最终结果。\n",
    "超时了"
   ]
  },
  {
   "cell_type": "code",
   "execution_count": 6,
   "metadata": {},
   "outputs": [
    {
     "data": {
      "text/plain": [
       "30"
      ]
     },
     "execution_count": 6,
     "metadata": {},
     "output_type": "execute_result"
    }
   ],
   "source": [
    "# -*- coding:utf-8 -*-\n",
    "class Solution:\n",
    "    def Add(self, num1, num2):\n",
    "        # write code here\n",
    "        while num2:\n",
    "            # 异或运算相当于只求和不进位\n",
    "            sum = num1 ^ num2\n",
    "            # 与操作，并向左移一位，相当于求进位\n",
    "            carray = (num1 & num2) << 1\n",
    "            num1 = sum\n",
    "            num2 = carray\n",
    "        return num1\n",
    "ss = Solution()\n",
    "ss.Add(10,20)"
   ]
  }
 ],
 "metadata": {
  "kernelspec": {
   "display_name": "Python 3",
   "language": "python",
   "name": "python3"
  },
  "language_info": {
   "codemirror_mode": {
    "name": "ipython",
    "version": 3
   },
   "file_extension": ".py",
   "mimetype": "text/x-python",
   "name": "python",
   "nbconvert_exporter": "python",
   "pygments_lexer": "ipython3",
   "version": "3.7.3"
  }
 },
 "nbformat": 4,
 "nbformat_minor": 2
}
