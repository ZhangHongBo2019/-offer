{
 "cells": [
  {
   "cell_type": "markdown",
   "metadata": {},
   "source": [
    "## 题目：\n",
    " 把只包含因子2、3、5的数称为丑数（Ugly Number）,例如6,10都是丑数，但14不是，因为有因子7\n",
    "一般的，我们把1当做第一个丑数，求：\n",
    "从小到大的排序的第N个丑数"
   ]
  },
  {
   "cell_type": "code",
   "execution_count": 14,
   "metadata": {},
   "outputs": [
    {
     "data": {
      "text/plain": [
       "[1, 2, 3, 4, 5, 6, 8, 9, 10, 12, 15]"
      ]
     },
     "execution_count": 14,
     "metadata": {},
     "output_type": "execute_result"
    }
   ],
   "source": [
    "class UglyNumber(object):\n",
    "    \n",
    "    def get_data(self,N):\n",
    "        if N < 1:\n",
    "            return 0\n",
    "        result = [1]\n",
    "        index = 0\n",
    "        index_1 = index_2 = index_3 = 0\n",
    "        while index < N:\n",
    "            inter_val = min(result[index_1]*2,result[index_2]*3,result[index_3]*5)\n",
    "            result.append(inter_val)\n",
    "            while result[index_1]*2 <= inter_val:\n",
    "                index_1+=1\n",
    "            while result[index_2]*3 <= inter_val:\n",
    "                index_2+=1\n",
    "            while result[index_3]*5 <=inter_val:\n",
    "                index_3+=1\n",
    "            index+=1\n",
    "        return result\n",
    "ss = UglyNumber()\n",
    "ss.get_data(10)"
   ]
  }
 ],
 "metadata": {
  "kernelspec": {
   "display_name": "Python 3",
   "language": "python",
   "name": "python3"
  },
  "language_info": {
   "codemirror_mode": {
    "name": "ipython",
    "version": 3
   },
   "file_extension": ".py",
   "mimetype": "text/x-python",
   "name": "python",
   "nbconvert_exporter": "python",
   "pygments_lexer": "ipython3",
   "version": "3.7.3"
  }
 },
 "nbformat": 4,
 "nbformat_minor": 2
}
