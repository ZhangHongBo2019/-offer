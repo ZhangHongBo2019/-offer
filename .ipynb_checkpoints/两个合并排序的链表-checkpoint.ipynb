{
 "cells": [
  {
   "cell_type": "markdown",
   "metadata": {},
   "source": [
    "# 题目：\n",
    "输入两个单调递增的链表，输出两个链表合成后的链表，合成后的链表满足单调不减规则"
   ]
  },
  {
   "cell_type": "code",
   "execution_count": 23,
   "metadata": {},
   "outputs": [
    {
     "name": "stdout",
     "output_type": "stream",
     "text": [
      "a=200,b=375,c=1425\n",
      "Spend time:0.390290\n"
     ]
    }
   ],
   "source": [
    "##枚举法求勾股定理：\n",
    "import time\n",
    "start_time = time.time()\n",
    "for a in range(1,500):\n",
    "    for b in range(1,500):\n",
    "            if (a**2+b**2==(1000-a-b)**2)and(c>b>a):\n",
    "                print(\"a=%d,b=%d,c=%d\"%(a,b,2000-a-b))\n",
    "end_time = time.time()\n",
    "print(\"Spend time:%f\"%(end_time-start_time))"
   ]
  }
 ],
 "metadata": {
  "kernelspec": {
   "display_name": "Python 3",
   "language": "python",
   "name": "python3"
  },
  "language_info": {
   "codemirror_mode": {
    "name": "ipython",
    "version": 3
   },
   "file_extension": ".py",
   "mimetype": "text/x-python",
   "name": "python",
   "nbconvert_exporter": "python",
   "pygments_lexer": "ipython3",
   "version": "3.7.3"
  }
 },
 "nbformat": 4,
 "nbformat_minor": 2
}
